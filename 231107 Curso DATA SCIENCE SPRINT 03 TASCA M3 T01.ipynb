{
 "cells": [
  {
   "cell_type": "markdown",
   "id": "f47679f0",
   "metadata": {},
   "source": [
    "# TASCA M3 T01\n",
    "\n",
    "En aquesta tasca treballaràs amb la llibreria numpy i amb les dades de la llibreria sklearn.datasets. D'aquesta llibreria descarrega el conjunt de dades denominat Iris.\n",
    "\n",
    "Tingues en compte que Iris està conformada per diversos conjunts de dades, dins d'ells, el array denominat: “data” i “target”. També està composta per llistes, per exemple: “feature_*names” i “target_*names”.\n",
    "\n",
    "Per a obtenir informació del dataset pots consultar el següent enllaç:\n",
    "\n",
    "-> sklearn.datasets.load_iris "
   ]
  },
  {
   "cell_type": "code",
   "execution_count": 9,
   "id": "294de530",
   "metadata": {},
   "outputs": [
    {
     "name": "stdout",
     "output_type": "stream",
     "text": [
      "Collecting scikit-learn\n",
      "  Downloading scikit_learn-1.3.2-cp310-cp310-macosx_10_9_x86_64.whl (10.2 MB)\n",
      "\u001b[2K     \u001b[90m━━━━━━━━━━━━━━━━━━━━━━━━━━━━━━━━━━━━━━━━\u001b[0m \u001b[32m10.2/10.2 MB\u001b[0m \u001b[31m5.0 MB/s\u001b[0m eta \u001b[36m0:00:00\u001b[0m00:01\u001b[0m0:01\u001b[0m\n",
      "\u001b[?25hCollecting joblib>=1.1.1\n",
      "  Downloading joblib-1.3.2-py3-none-any.whl (302 kB)\n",
      "\u001b[2K     \u001b[90m━━━━━━━━━━━━━━━━━━━━━━━━━━━━━━━━━━━━━━━\u001b[0m \u001b[32m302.2/302.2 kB\u001b[0m \u001b[31m4.1 MB/s\u001b[0m eta \u001b[36m0:00:00\u001b[0ma \u001b[36m0:00:01\u001b[0m\n",
      "\u001b[?25hCollecting scipy>=1.5.0\n",
      "  Downloading scipy-1.11.3-cp310-cp310-macosx_10_9_x86_64.whl (37.3 MB)\n",
      "\u001b[2K     \u001b[90m━━━━━━━━━━━━━━━━━━━━━━━━━━━━━━━━━━━━━━━━\u001b[0m \u001b[32m37.3/37.3 MB\u001b[0m \u001b[31m3.0 MB/s\u001b[0m eta \u001b[36m0:00:00\u001b[0m00:01\u001b[0m00:01\u001b[0m\n",
      "\u001b[?25hRequirement already satisfied: numpy<2.0,>=1.17.3 in /Library/Frameworks/Python.framework/Versions/3.10/lib/python3.10/site-packages (from scikit-learn) (1.23.3)\n",
      "Collecting threadpoolctl>=2.0.0\n",
      "  Downloading threadpoolctl-3.2.0-py3-none-any.whl (15 kB)\n",
      "Installing collected packages: threadpoolctl, scipy, joblib, scikit-learn\n",
      "Successfully installed joblib-1.3.2 scikit-learn-1.3.2 scipy-1.11.3 threadpoolctl-3.2.0\n",
      "\n",
      "\u001b[1m[\u001b[0m\u001b[34;49mnotice\u001b[0m\u001b[1;39;49m]\u001b[0m\u001b[39;49m A new release of pip available: \u001b[0m\u001b[31;49m22.2.2\u001b[0m\u001b[39;49m -> \u001b[0m\u001b[32;49m23.3.1\u001b[0m\n",
      "\u001b[1m[\u001b[0m\u001b[34;49mnotice\u001b[0m\u001b[1;39;49m]\u001b[0m\u001b[39;49m To update, run: \u001b[0m\u001b[32;49mpip install --upgrade pip\u001b[0m\n"
     ]
    }
   ],
   "source": [
    "# Intento cargar la librería sklearn.datasets con el código: \"!pip install sklearn\"\n",
    "# Lo intento tanto en jupiter como en la terminal, pero me da error. \n",
    "# Teniendo en cuenta el error que me indica, introduzco el siguiento códido que resulta funcionar.\n",
    "!pip install scikit-learn"
   ]
  },
  {
   "cell_type": "code",
   "execution_count": 17,
   "id": "b08abbb1",
   "metadata": {},
   "outputs": [
    {
     "name": "stdout",
     "output_type": "stream",
     "text": [
      "{'data': array([[5.1, 3.5, 1.4, 0.2],\n",
      "       [4.9, 3. , 1.4, 0.2],\n",
      "       [4.7, 3.2, 1.3, 0.2],\n",
      "       [4.6, 3.1, 1.5, 0.2],\n",
      "       [5. , 3.6, 1.4, 0.2],\n",
      "       [5.4, 3.9, 1.7, 0.4],\n",
      "       [4.6, 3.4, 1.4, 0.3],\n",
      "       [5. , 3.4, 1.5, 0.2],\n",
      "       [4.4, 2.9, 1.4, 0.2],\n",
      "       [4.9, 3.1, 1.5, 0.1],\n",
      "       [5.4, 3.7, 1.5, 0.2],\n",
      "       [4.8, 3.4, 1.6, 0.2],\n",
      "       [4.8, 3. , 1.4, 0.1],\n",
      "       [4.3, 3. , 1.1, 0.1],\n",
      "       [5.8, 4. , 1.2, 0.2],\n",
      "       [5.7, 4.4, 1.5, 0.4],\n",
      "       [5.4, 3.9, 1.3, 0.4],\n",
      "       [5.1, 3.5, 1.4, 0.3],\n",
      "       [5.7, 3.8, 1.7, 0.3],\n",
      "       [5.1, 3.8, 1.5, 0.3],\n",
      "       [5.4, 3.4, 1.7, 0.2],\n",
      "       [5.1, 3.7, 1.5, 0.4],\n",
      "       [4.6, 3.6, 1. , 0.2],\n",
      "       [5.1, 3.3, 1.7, 0.5],\n",
      "       [4.8, 3.4, 1.9, 0.2],\n",
      "       [5. , 3. , 1.6, 0.2],\n",
      "       [5. , 3.4, 1.6, 0.4],\n",
      "       [5.2, 3.5, 1.5, 0.2],\n",
      "       [5.2, 3.4, 1.4, 0.2],\n",
      "       [4.7, 3.2, 1.6, 0.2],\n",
      "       [4.8, 3.1, 1.6, 0.2],\n",
      "       [5.4, 3.4, 1.5, 0.4],\n",
      "       [5.2, 4.1, 1.5, 0.1],\n",
      "       [5.5, 4.2, 1.4, 0.2],\n",
      "       [4.9, 3.1, 1.5, 0.2],\n",
      "       [5. , 3.2, 1.2, 0.2],\n",
      "       [5.5, 3.5, 1.3, 0.2],\n",
      "       [4.9, 3.6, 1.4, 0.1],\n",
      "       [4.4, 3. , 1.3, 0.2],\n",
      "       [5.1, 3.4, 1.5, 0.2],\n",
      "       [5. , 3.5, 1.3, 0.3],\n",
      "       [4.5, 2.3, 1.3, 0.3],\n",
      "       [4.4, 3.2, 1.3, 0.2],\n",
      "       [5. , 3.5, 1.6, 0.6],\n",
      "       [5.1, 3.8, 1.9, 0.4],\n",
      "       [4.8, 3. , 1.4, 0.3],\n",
      "       [5.1, 3.8, 1.6, 0.2],\n",
      "       [4.6, 3.2, 1.4, 0.2],\n",
      "       [5.3, 3.7, 1.5, 0.2],\n",
      "       [5. , 3.3, 1.4, 0.2],\n",
      "       [7. , 3.2, 4.7, 1.4],\n",
      "       [6.4, 3.2, 4.5, 1.5],\n",
      "       [6.9, 3.1, 4.9, 1.5],\n",
      "       [5.5, 2.3, 4. , 1.3],\n",
      "       [6.5, 2.8, 4.6, 1.5],\n",
      "       [5.7, 2.8, 4.5, 1.3],\n",
      "       [6.3, 3.3, 4.7, 1.6],\n",
      "       [4.9, 2.4, 3.3, 1. ],\n",
      "       [6.6, 2.9, 4.6, 1.3],\n",
      "       [5.2, 2.7, 3.9, 1.4],\n",
      "       [5. , 2. , 3.5, 1. ],\n",
      "       [5.9, 3. , 4.2, 1.5],\n",
      "       [6. , 2.2, 4. , 1. ],\n",
      "       [6.1, 2.9, 4.7, 1.4],\n",
      "       [5.6, 2.9, 3.6, 1.3],\n",
      "       [6.7, 3.1, 4.4, 1.4],\n",
      "       [5.6, 3. , 4.5, 1.5],\n",
      "       [5.8, 2.7, 4.1, 1. ],\n",
      "       [6.2, 2.2, 4.5, 1.5],\n",
      "       [5.6, 2.5, 3.9, 1.1],\n",
      "       [5.9, 3.2, 4.8, 1.8],\n",
      "       [6.1, 2.8, 4. , 1.3],\n",
      "       [6.3, 2.5, 4.9, 1.5],\n",
      "       [6.1, 2.8, 4.7, 1.2],\n",
      "       [6.4, 2.9, 4.3, 1.3],\n",
      "       [6.6, 3. , 4.4, 1.4],\n",
      "       [6.8, 2.8, 4.8, 1.4],\n",
      "       [6.7, 3. , 5. , 1.7],\n",
      "       [6. , 2.9, 4.5, 1.5],\n",
      "       [5.7, 2.6, 3.5, 1. ],\n",
      "       [5.5, 2.4, 3.8, 1.1],\n",
      "       [5.5, 2.4, 3.7, 1. ],\n",
      "       [5.8, 2.7, 3.9, 1.2],\n",
      "       [6. , 2.7, 5.1, 1.6],\n",
      "       [5.4, 3. , 4.5, 1.5],\n",
      "       [6. , 3.4, 4.5, 1.6],\n",
      "       [6.7, 3.1, 4.7, 1.5],\n",
      "       [6.3, 2.3, 4.4, 1.3],\n",
      "       [5.6, 3. , 4.1, 1.3],\n",
      "       [5.5, 2.5, 4. , 1.3],\n",
      "       [5.5, 2.6, 4.4, 1.2],\n",
      "       [6.1, 3. , 4.6, 1.4],\n",
      "       [5.8, 2.6, 4. , 1.2],\n",
      "       [5. , 2.3, 3.3, 1. ],\n",
      "       [5.6, 2.7, 4.2, 1.3],\n",
      "       [5.7, 3. , 4.2, 1.2],\n",
      "       [5.7, 2.9, 4.2, 1.3],\n",
      "       [6.2, 2.9, 4.3, 1.3],\n",
      "       [5.1, 2.5, 3. , 1.1],\n",
      "       [5.7, 2.8, 4.1, 1.3],\n",
      "       [6.3, 3.3, 6. , 2.5],\n",
      "       [5.8, 2.7, 5.1, 1.9],\n",
      "       [7.1, 3. , 5.9, 2.1],\n",
      "       [6.3, 2.9, 5.6, 1.8],\n",
      "       [6.5, 3. , 5.8, 2.2],\n",
      "       [7.6, 3. , 6.6, 2.1],\n",
      "       [4.9, 2.5, 4.5, 1.7],\n",
      "       [7.3, 2.9, 6.3, 1.8],\n",
      "       [6.7, 2.5, 5.8, 1.8],\n",
      "       [7.2, 3.6, 6.1, 2.5],\n",
      "       [6.5, 3.2, 5.1, 2. ],\n",
      "       [6.4, 2.7, 5.3, 1.9],\n",
      "       [6.8, 3. , 5.5, 2.1],\n",
      "       [5.7, 2.5, 5. , 2. ],\n",
      "       [5.8, 2.8, 5.1, 2.4],\n",
      "       [6.4, 3.2, 5.3, 2.3],\n",
      "       [6.5, 3. , 5.5, 1.8],\n",
      "       [7.7, 3.8, 6.7, 2.2],\n",
      "       [7.7, 2.6, 6.9, 2.3],\n",
      "       [6. , 2.2, 5. , 1.5],\n",
      "       [6.9, 3.2, 5.7, 2.3],\n",
      "       [5.6, 2.8, 4.9, 2. ],\n",
      "       [7.7, 2.8, 6.7, 2. ],\n",
      "       [6.3, 2.7, 4.9, 1.8],\n",
      "       [6.7, 3.3, 5.7, 2.1],\n",
      "       [7.2, 3.2, 6. , 1.8],\n",
      "       [6.2, 2.8, 4.8, 1.8],\n",
      "       [6.1, 3. , 4.9, 1.8],\n",
      "       [6.4, 2.8, 5.6, 2.1],\n",
      "       [7.2, 3. , 5.8, 1.6],\n",
      "       [7.4, 2.8, 6.1, 1.9],\n",
      "       [7.9, 3.8, 6.4, 2. ],\n",
      "       [6.4, 2.8, 5.6, 2.2],\n",
      "       [6.3, 2.8, 5.1, 1.5],\n",
      "       [6.1, 2.6, 5.6, 1.4],\n",
      "       [7.7, 3. , 6.1, 2.3],\n",
      "       [6.3, 3.4, 5.6, 2.4],\n",
      "       [6.4, 3.1, 5.5, 1.8],\n",
      "       [6. , 3. , 4.8, 1.8],\n",
      "       [6.9, 3.1, 5.4, 2.1],\n",
      "       [6.7, 3.1, 5.6, 2.4],\n",
      "       [6.9, 3.1, 5.1, 2.3],\n",
      "       [5.8, 2.7, 5.1, 1.9],\n",
      "       [6.8, 3.2, 5.9, 2.3],\n",
      "       [6.7, 3.3, 5.7, 2.5],\n",
      "       [6.7, 3. , 5.2, 2.3],\n",
      "       [6.3, 2.5, 5. , 1.9],\n",
      "       [6.5, 3. , 5.2, 2. ],\n",
      "       [6.2, 3.4, 5.4, 2.3],\n",
      "       [5.9, 3. , 5.1, 1.8]]), 'target': array([0, 0, 0, 0, 0, 0, 0, 0, 0, 0, 0, 0, 0, 0, 0, 0, 0, 0, 0, 0, 0, 0,\n",
      "       0, 0, 0, 0, 0, 0, 0, 0, 0, 0, 0, 0, 0, 0, 0, 0, 0, 0, 0, 0, 0, 0,\n",
      "       0, 0, 0, 0, 0, 0, 1, 1, 1, 1, 1, 1, 1, 1, 1, 1, 1, 1, 1, 1, 1, 1,\n",
      "       1, 1, 1, 1, 1, 1, 1, 1, 1, 1, 1, 1, 1, 1, 1, 1, 1, 1, 1, 1, 1, 1,\n",
      "       1, 1, 1, 1, 1, 1, 1, 1, 1, 1, 1, 1, 2, 2, 2, 2, 2, 2, 2, 2, 2, 2,\n",
      "       2, 2, 2, 2, 2, 2, 2, 2, 2, 2, 2, 2, 2, 2, 2, 2, 2, 2, 2, 2, 2, 2,\n",
      "       2, 2, 2, 2, 2, 2, 2, 2, 2, 2, 2, 2, 2, 2, 2, 2, 2, 2]), 'frame': None, 'target_names': array(['setosa', 'versicolor', 'virginica'], dtype='<U10'), 'DESCR': '.. _iris_dataset:\\n\\nIris plants dataset\\n--------------------\\n\\n**Data Set Characteristics:**\\n\\n    :Number of Instances: 150 (50 in each of three classes)\\n    :Number of Attributes: 4 numeric, predictive attributes and the class\\n    :Attribute Information:\\n        - sepal length in cm\\n        - sepal width in cm\\n        - petal length in cm\\n        - petal width in cm\\n        - class:\\n                - Iris-Setosa\\n                - Iris-Versicolour\\n                - Iris-Virginica\\n                \\n    :Summary Statistics:\\n\\n    ============== ==== ==== ======= ===== ====================\\n                    Min  Max   Mean    SD   Class Correlation\\n    ============== ==== ==== ======= ===== ====================\\n    sepal length:   4.3  7.9   5.84   0.83    0.7826\\n    sepal width:    2.0  4.4   3.05   0.43   -0.4194\\n    petal length:   1.0  6.9   3.76   1.76    0.9490  (high!)\\n    petal width:    0.1  2.5   1.20   0.76    0.9565  (high!)\\n    ============== ==== ==== ======= ===== ====================\\n\\n    :Missing Attribute Values: None\\n    :Class Distribution: 33.3% for each of 3 classes.\\n    :Creator: R.A. Fisher\\n    :Donor: Michael Marshall (MARSHALL%PLU@io.arc.nasa.gov)\\n    :Date: July, 1988\\n\\nThe famous Iris database, first used by Sir R.A. Fisher. The dataset is taken\\nfrom Fisher\\'s paper. Note that it\\'s the same as in R, but not as in the UCI\\nMachine Learning Repository, which has two wrong data points.\\n\\nThis is perhaps the best known database to be found in the\\npattern recognition literature.  Fisher\\'s paper is a classic in the field and\\nis referenced frequently to this day.  (See Duda & Hart, for example.)  The\\ndata set contains 3 classes of 50 instances each, where each class refers to a\\ntype of iris plant.  One class is linearly separable from the other 2; the\\nlatter are NOT linearly separable from each other.\\n\\n|details-start|\\n**References**\\n|details-split|\\n\\n- Fisher, R.A. \"The use of multiple measurements in taxonomic problems\"\\n  Annual Eugenics, 7, Part II, 179-188 (1936); also in \"Contributions to\\n  Mathematical Statistics\" (John Wiley, NY, 1950).\\n- Duda, R.O., & Hart, P.E. (1973) Pattern Classification and Scene Analysis.\\n  (Q327.D83) John Wiley & Sons.  ISBN 0-471-22361-1.  See page 218.\\n- Dasarathy, B.V. (1980) \"Nosing Around the Neighborhood: A New System\\n  Structure and Classification Rule for Recognition in Partially Exposed\\n  Environments\".  IEEE Transactions on Pattern Analysis and Machine\\n  Intelligence, Vol. PAMI-2, No. 1, 67-71.\\n- Gates, G.W. (1972) \"The Reduced Nearest Neighbor Rule\".  IEEE Transactions\\n  on Information Theory, May 1972, 431-433.\\n- See also: 1988 MLC Proceedings, 54-64.  Cheeseman et al\"s AUTOCLASS II\\n  conceptual clustering system finds 3 classes in the data.\\n- Many, many more ...\\n\\n|details-end|', 'feature_names': ['sepal length (cm)', 'sepal width (cm)', 'petal length (cm)', 'petal width (cm)'], 'filename': 'iris.csv', 'data_module': 'sklearn.datasets.data'}\n"
     ]
    }
   ],
   "source": [
    "# Una vez que he importado la  les dades de la librería sklearn.datasets, \n",
    "# me dispongo a descargar el conjunt de datos denominados \"iris\".\n",
    "\n",
    "from sklearn.datasets import load_iris\n",
    "data = load_iris()\n",
    "print(data)"
   ]
  },
  {
   "cell_type": "markdown",
   "id": "927541b5",
   "metadata": {},
   "source": [
    "Como me dice que Iris está conformada por varios conjuntos de datos, dentro de ellos: \n",
    "- el array denominado: “data” \n",
    "- el array denominado:“target”\n",
    "- la lista: “feature_names” \n",
    "- la lista: “target_names”\n",
    "\n",
    "Voy a descargarme cada uno de ellos para ver que pinta tienen:\n"
   ]
  },
  {
   "cell_type": "code",
   "execution_count": 14,
   "id": "7a42055b",
   "metadata": {},
   "outputs": [
    {
     "name": "stdout",
     "output_type": "stream",
     "text": [
      "[[5.1 3.5 1.4 0.2]\n",
      " [4.9 3.  1.4 0.2]\n",
      " [4.7 3.2 1.3 0.2]\n",
      " [4.6 3.1 1.5 0.2]\n",
      " [5.  3.6 1.4 0.2]\n",
      " [5.4 3.9 1.7 0.4]\n",
      " [4.6 3.4 1.4 0.3]\n",
      " [5.  3.4 1.5 0.2]\n",
      " [4.4 2.9 1.4 0.2]\n",
      " [4.9 3.1 1.5 0.1]\n",
      " [5.4 3.7 1.5 0.2]\n",
      " [4.8 3.4 1.6 0.2]\n",
      " [4.8 3.  1.4 0.1]\n",
      " [4.3 3.  1.1 0.1]\n",
      " [5.8 4.  1.2 0.2]\n",
      " [5.7 4.4 1.5 0.4]\n",
      " [5.4 3.9 1.3 0.4]\n",
      " [5.1 3.5 1.4 0.3]\n",
      " [5.7 3.8 1.7 0.3]\n",
      " [5.1 3.8 1.5 0.3]\n",
      " [5.4 3.4 1.7 0.2]\n",
      " [5.1 3.7 1.5 0.4]\n",
      " [4.6 3.6 1.  0.2]\n",
      " [5.1 3.3 1.7 0.5]\n",
      " [4.8 3.4 1.9 0.2]\n",
      " [5.  3.  1.6 0.2]\n",
      " [5.  3.4 1.6 0.4]\n",
      " [5.2 3.5 1.5 0.2]\n",
      " [5.2 3.4 1.4 0.2]\n",
      " [4.7 3.2 1.6 0.2]\n",
      " [4.8 3.1 1.6 0.2]\n",
      " [5.4 3.4 1.5 0.4]\n",
      " [5.2 4.1 1.5 0.1]\n",
      " [5.5 4.2 1.4 0.2]\n",
      " [4.9 3.1 1.5 0.2]\n",
      " [5.  3.2 1.2 0.2]\n",
      " [5.5 3.5 1.3 0.2]\n",
      " [4.9 3.6 1.4 0.1]\n",
      " [4.4 3.  1.3 0.2]\n",
      " [5.1 3.4 1.5 0.2]\n",
      " [5.  3.5 1.3 0.3]\n",
      " [4.5 2.3 1.3 0.3]\n",
      " [4.4 3.2 1.3 0.2]\n",
      " [5.  3.5 1.6 0.6]\n",
      " [5.1 3.8 1.9 0.4]\n",
      " [4.8 3.  1.4 0.3]\n",
      " [5.1 3.8 1.6 0.2]\n",
      " [4.6 3.2 1.4 0.2]\n",
      " [5.3 3.7 1.5 0.2]\n",
      " [5.  3.3 1.4 0.2]\n",
      " [7.  3.2 4.7 1.4]\n",
      " [6.4 3.2 4.5 1.5]\n",
      " [6.9 3.1 4.9 1.5]\n",
      " [5.5 2.3 4.  1.3]\n",
      " [6.5 2.8 4.6 1.5]\n",
      " [5.7 2.8 4.5 1.3]\n",
      " [6.3 3.3 4.7 1.6]\n",
      " [4.9 2.4 3.3 1. ]\n",
      " [6.6 2.9 4.6 1.3]\n",
      " [5.2 2.7 3.9 1.4]\n",
      " [5.  2.  3.5 1. ]\n",
      " [5.9 3.  4.2 1.5]\n",
      " [6.  2.2 4.  1. ]\n",
      " [6.1 2.9 4.7 1.4]\n",
      " [5.6 2.9 3.6 1.3]\n",
      " [6.7 3.1 4.4 1.4]\n",
      " [5.6 3.  4.5 1.5]\n",
      " [5.8 2.7 4.1 1. ]\n",
      " [6.2 2.2 4.5 1.5]\n",
      " [5.6 2.5 3.9 1.1]\n",
      " [5.9 3.2 4.8 1.8]\n",
      " [6.1 2.8 4.  1.3]\n",
      " [6.3 2.5 4.9 1.5]\n",
      " [6.1 2.8 4.7 1.2]\n",
      " [6.4 2.9 4.3 1.3]\n",
      " [6.6 3.  4.4 1.4]\n",
      " [6.8 2.8 4.8 1.4]\n",
      " [6.7 3.  5.  1.7]\n",
      " [6.  2.9 4.5 1.5]\n",
      " [5.7 2.6 3.5 1. ]\n",
      " [5.5 2.4 3.8 1.1]\n",
      " [5.5 2.4 3.7 1. ]\n",
      " [5.8 2.7 3.9 1.2]\n",
      " [6.  2.7 5.1 1.6]\n",
      " [5.4 3.  4.5 1.5]\n",
      " [6.  3.4 4.5 1.6]\n",
      " [6.7 3.1 4.7 1.5]\n",
      " [6.3 2.3 4.4 1.3]\n",
      " [5.6 3.  4.1 1.3]\n",
      " [5.5 2.5 4.  1.3]\n",
      " [5.5 2.6 4.4 1.2]\n",
      " [6.1 3.  4.6 1.4]\n",
      " [5.8 2.6 4.  1.2]\n",
      " [5.  2.3 3.3 1. ]\n",
      " [5.6 2.7 4.2 1.3]\n",
      " [5.7 3.  4.2 1.2]\n",
      " [5.7 2.9 4.2 1.3]\n",
      " [6.2 2.9 4.3 1.3]\n",
      " [5.1 2.5 3.  1.1]\n",
      " [5.7 2.8 4.1 1.3]\n",
      " [6.3 3.3 6.  2.5]\n",
      " [5.8 2.7 5.1 1.9]\n",
      " [7.1 3.  5.9 2.1]\n",
      " [6.3 2.9 5.6 1.8]\n",
      " [6.5 3.  5.8 2.2]\n",
      " [7.6 3.  6.6 2.1]\n",
      " [4.9 2.5 4.5 1.7]\n",
      " [7.3 2.9 6.3 1.8]\n",
      " [6.7 2.5 5.8 1.8]\n",
      " [7.2 3.6 6.1 2.5]\n",
      " [6.5 3.2 5.1 2. ]\n",
      " [6.4 2.7 5.3 1.9]\n",
      " [6.8 3.  5.5 2.1]\n",
      " [5.7 2.5 5.  2. ]\n",
      " [5.8 2.8 5.1 2.4]\n",
      " [6.4 3.2 5.3 2.3]\n",
      " [6.5 3.  5.5 1.8]\n",
      " [7.7 3.8 6.7 2.2]\n",
      " [7.7 2.6 6.9 2.3]\n",
      " [6.  2.2 5.  1.5]\n",
      " [6.9 3.2 5.7 2.3]\n",
      " [5.6 2.8 4.9 2. ]\n",
      " [7.7 2.8 6.7 2. ]\n",
      " [6.3 2.7 4.9 1.8]\n",
      " [6.7 3.3 5.7 2.1]\n",
      " [7.2 3.2 6.  1.8]\n",
      " [6.2 2.8 4.8 1.8]\n",
      " [6.1 3.  4.9 1.8]\n",
      " [6.4 2.8 5.6 2.1]\n",
      " [7.2 3.  5.8 1.6]\n",
      " [7.4 2.8 6.1 1.9]\n",
      " [7.9 3.8 6.4 2. ]\n",
      " [6.4 2.8 5.6 2.2]\n",
      " [6.3 2.8 5.1 1.5]\n",
      " [6.1 2.6 5.6 1.4]\n",
      " [7.7 3.  6.1 2.3]\n",
      " [6.3 3.4 5.6 2.4]\n",
      " [6.4 3.1 5.5 1.8]\n",
      " [6.  3.  4.8 1.8]\n",
      " [6.9 3.1 5.4 2.1]\n",
      " [6.7 3.1 5.6 2.4]\n",
      " [6.9 3.1 5.1 2.3]\n",
      " [5.8 2.7 5.1 1.9]\n",
      " [6.8 3.2 5.9 2.3]\n",
      " [6.7 3.3 5.7 2.5]\n",
      " [6.7 3.  5.2 2.3]\n",
      " [6.3 2.5 5.  1.9]\n",
      " [6.5 3.  5.2 2. ]\n",
      " [6.2 3.4 5.4 2.3]\n",
      " [5.9 3.  5.1 1.8]]\n"
     ]
    }
   ],
   "source": [
    "# Como el array \"data\" está dentro de la \"data\" global que contiene todos los datos, \n",
    "# para distinguirlos al seguundo lo llamo \"data2\" \n",
    "data2=data.data\n",
    "print(data2)\n",
    "\n",
    "# veo que data2 es una matriz de cuatro columnas y muchas filas de floats."
   ]
  },
  {
   "cell_type": "code",
   "execution_count": 12,
   "id": "efe7fa84",
   "metadata": {},
   "outputs": [
    {
     "name": "stdout",
     "output_type": "stream",
     "text": [
      "[0 0 0 0 0 0 0 0 0 0 0 0 0 0 0 0 0 0 0 0 0 0 0 0 0 0 0 0 0 0 0 0 0 0 0 0 0\n",
      " 0 0 0 0 0 0 0 0 0 0 0 0 0 1 1 1 1 1 1 1 1 1 1 1 1 1 1 1 1 1 1 1 1 1 1 1 1\n",
      " 1 1 1 1 1 1 1 1 1 1 1 1 1 1 1 1 1 1 1 1 1 1 1 1 1 1 2 2 2 2 2 2 2 2 2 2 2\n",
      " 2 2 2 2 2 2 2 2 2 2 2 2 2 2 2 2 2 2 2 2 2 2 2 2 2 2 2 2 2 2 2 2 2 2 2 2 2\n",
      " 2 2]\n"
     ]
    }
   ],
   "source": [
    "target=data.target\n",
    "print(target)\n",
    "\n",
    "# Target en realidad es una lista con muchos datos, pero solo hay tres tipos de dados diferentes."
   ]
  },
  {
   "cell_type": "code",
   "execution_count": 18,
   "id": "294cc191",
   "metadata": {},
   "outputs": [
    {
     "name": "stdout",
     "output_type": "stream",
     "text": [
      "['sepal length (cm)', 'sepal width (cm)', 'petal length (cm)', 'petal width (cm)']\n"
     ]
    }
   ],
   "source": [
    "feature_names=data.feature_names\n",
    "print(feature_names)\n",
    "\n",
    "# feature_names es una lista con cuatro elementos: ancho y largo de pétalos y sépalos\n",
    "# presumo que van a ser los nombres de las columnas"
   ]
  },
  {
   "cell_type": "code",
   "execution_count": 19,
   "id": "e58aac2c",
   "metadata": {},
   "outputs": [
    {
     "name": "stdout",
     "output_type": "stream",
     "text": [
      "['setosa' 'versicolor' 'virginica']\n"
     ]
    }
   ],
   "source": [
    "target_names=data.target_names\n",
    "print(target_names)\n",
    "\n",
    "# Es una lista con tres elementos,\n",
    "# presumo que son los nombres de las tres categorías de datos que componen la lista \"target\""
   ]
  },
  {
   "cell_type": "markdown",
   "id": "8763c06b",
   "metadata": {},
   "source": [
    "## Exercici 1\n",
    "Carregar “data” i \"target\" del conjunt de dades, i visualitza els 10 primers registres de cadascun."
   ]
  },
  {
   "cell_type": "code",
   "execution_count": 13,
   "id": "970186af",
   "metadata": {
    "scrolled": true
   },
   "outputs": [
    {
     "name": "stdout",
     "output_type": "stream",
     "text": [
      "[[5.1 3.5 1.4 0.2]\n",
      " [4.9 3.  1.4 0.2]\n",
      " [4.7 3.2 1.3 0.2]\n",
      " [4.6 3.1 1.5 0.2]\n",
      " [5.  3.6 1.4 0.2]\n",
      " [5.4 3.9 1.7 0.4]\n",
      " [4.6 3.4 1.4 0.3]\n",
      " [5.  3.4 1.5 0.2]\n",
      " [4.4 2.9 1.4 0.2]]\n"
     ]
    }
   ],
   "source": [
    "print(data2[:9])"
   ]
  },
  {
   "cell_type": "code",
   "execution_count": 20,
   "id": "aecd978b",
   "metadata": {},
   "outputs": [
    {
     "name": "stdout",
     "output_type": "stream",
     "text": [
      "[0 0 0 0 0 0 0 0 0]\n"
     ]
    }
   ],
   "source": [
    "print(target[:9])"
   ]
  },
  {
   "cell_type": "markdown",
   "id": "2f80ea08",
   "metadata": {},
   "source": [
    "## Exercici 2\n",
    "Concatena “data” i “target” en un nou array. Mostra els 5 primers registres."
   ]
  },
  {
   "cell_type": "code",
   "execution_count": 79,
   "id": "d887cca2",
   "metadata": {},
   "outputs": [
    {
     "name": "stdout",
     "output_type": "stream",
     "text": [
      "[[5.1 3.5 1.4 0.2 0. ]\n",
      " [4.9 3.  1.4 0.2 0. ]\n",
      " [4.7 3.2 1.3 0.2 0. ]\n",
      " [4.6 3.1 1.5 0.2 0. ]\n",
      " [5.  3.6 1.4 0.2 0. ]\n",
      " [5.4 3.9 1.7 0.4 0. ]\n",
      " [4.6 3.4 1.4 0.3 0. ]\n",
      " [5.  3.4 1.5 0.2 0. ]\n",
      " [4.4 2.9 1.4 0.2 0. ]\n",
      " [4.9 3.1 1.5 0.1 0. ]\n",
      " [5.4 3.7 1.5 0.2 0. ]\n",
      " [4.8 3.4 1.6 0.2 0. ]\n",
      " [4.8 3.  1.4 0.1 0. ]\n",
      " [4.3 3.  1.1 0.1 0. ]\n",
      " [5.8 4.  1.2 0.2 0. ]\n",
      " [5.7 4.4 1.5 0.4 0. ]\n",
      " [5.4 3.9 1.3 0.4 0. ]\n",
      " [5.1 3.5 1.4 0.3 0. ]\n",
      " [5.7 3.8 1.7 0.3 0. ]\n",
      " [5.1 3.8 1.5 0.3 0. ]\n",
      " [5.4 3.4 1.7 0.2 0. ]\n",
      " [5.1 3.7 1.5 0.4 0. ]\n",
      " [4.6 3.6 1.  0.2 0. ]\n",
      " [5.1 3.3 1.7 0.5 0. ]\n",
      " [4.8 3.4 1.9 0.2 0. ]\n",
      " [5.  3.  1.6 0.2 0. ]\n",
      " [5.  3.4 1.6 0.4 0. ]\n",
      " [5.2 3.5 1.5 0.2 0. ]\n",
      " [5.2 3.4 1.4 0.2 0. ]\n",
      " [4.7 3.2 1.6 0.2 0. ]\n",
      " [4.8 3.1 1.6 0.2 0. ]\n",
      " [5.4 3.4 1.5 0.4 0. ]\n",
      " [5.2 4.1 1.5 0.1 0. ]\n",
      " [5.5 4.2 1.4 0.2 0. ]\n",
      " [4.9 3.1 1.5 0.2 0. ]\n",
      " [5.  3.2 1.2 0.2 0. ]\n",
      " [5.5 3.5 1.3 0.2 0. ]\n",
      " [4.9 3.6 1.4 0.1 0. ]\n",
      " [4.4 3.  1.3 0.2 0. ]\n",
      " [5.1 3.4 1.5 0.2 0. ]\n",
      " [5.  3.5 1.3 0.3 0. ]\n",
      " [4.5 2.3 1.3 0.3 0. ]\n",
      " [4.4 3.2 1.3 0.2 0. ]\n",
      " [5.  3.5 1.6 0.6 0. ]\n",
      " [5.1 3.8 1.9 0.4 0. ]\n",
      " [4.8 3.  1.4 0.3 0. ]\n",
      " [5.1 3.8 1.6 0.2 0. ]\n",
      " [4.6 3.2 1.4 0.2 0. ]\n",
      " [5.3 3.7 1.5 0.2 0. ]\n",
      " [5.  3.3 1.4 0.2 0. ]\n",
      " [7.  3.2 4.7 1.4 1. ]\n",
      " [6.4 3.2 4.5 1.5 1. ]\n",
      " [6.9 3.1 4.9 1.5 1. ]\n",
      " [5.5 2.3 4.  1.3 1. ]\n",
      " [6.5 2.8 4.6 1.5 1. ]\n",
      " [5.7 2.8 4.5 1.3 1. ]\n",
      " [6.3 3.3 4.7 1.6 1. ]\n",
      " [4.9 2.4 3.3 1.  1. ]\n",
      " [6.6 2.9 4.6 1.3 1. ]\n",
      " [5.2 2.7 3.9 1.4 1. ]\n",
      " [5.  2.  3.5 1.  1. ]\n",
      " [5.9 3.  4.2 1.5 1. ]\n",
      " [6.  2.2 4.  1.  1. ]\n",
      " [6.1 2.9 4.7 1.4 1. ]\n",
      " [5.6 2.9 3.6 1.3 1. ]\n",
      " [6.7 3.1 4.4 1.4 1. ]\n",
      " [5.6 3.  4.5 1.5 1. ]\n",
      " [5.8 2.7 4.1 1.  1. ]\n",
      " [6.2 2.2 4.5 1.5 1. ]\n",
      " [5.6 2.5 3.9 1.1 1. ]\n",
      " [5.9 3.2 4.8 1.8 1. ]\n",
      " [6.1 2.8 4.  1.3 1. ]\n",
      " [6.3 2.5 4.9 1.5 1. ]\n",
      " [6.1 2.8 4.7 1.2 1. ]\n",
      " [6.4 2.9 4.3 1.3 1. ]\n",
      " [6.6 3.  4.4 1.4 1. ]\n",
      " [6.8 2.8 4.8 1.4 1. ]\n",
      " [6.7 3.  5.  1.7 1. ]\n",
      " [6.  2.9 4.5 1.5 1. ]\n",
      " [5.7 2.6 3.5 1.  1. ]\n",
      " [5.5 2.4 3.8 1.1 1. ]\n",
      " [5.5 2.4 3.7 1.  1. ]\n",
      " [5.8 2.7 3.9 1.2 1. ]\n",
      " [6.  2.7 5.1 1.6 1. ]\n",
      " [5.4 3.  4.5 1.5 1. ]\n",
      " [6.  3.4 4.5 1.6 1. ]\n",
      " [6.7 3.1 4.7 1.5 1. ]\n",
      " [6.3 2.3 4.4 1.3 1. ]\n",
      " [5.6 3.  4.1 1.3 1. ]\n",
      " [5.5 2.5 4.  1.3 1. ]\n",
      " [5.5 2.6 4.4 1.2 1. ]\n",
      " [6.1 3.  4.6 1.4 1. ]\n",
      " [5.8 2.6 4.  1.2 1. ]\n",
      " [5.  2.3 3.3 1.  1. ]\n",
      " [5.6 2.7 4.2 1.3 1. ]\n",
      " [5.7 3.  4.2 1.2 1. ]\n",
      " [5.7 2.9 4.2 1.3 1. ]\n",
      " [6.2 2.9 4.3 1.3 1. ]\n",
      " [5.1 2.5 3.  1.1 1. ]\n",
      " [5.7 2.8 4.1 1.3 1. ]\n",
      " [6.3 3.3 6.  2.5 2. ]\n",
      " [5.8 2.7 5.1 1.9 2. ]\n",
      " [7.1 3.  5.9 2.1 2. ]\n",
      " [6.3 2.9 5.6 1.8 2. ]\n",
      " [6.5 3.  5.8 2.2 2. ]\n",
      " [7.6 3.  6.6 2.1 2. ]\n",
      " [4.9 2.5 4.5 1.7 2. ]\n",
      " [7.3 2.9 6.3 1.8 2. ]\n",
      " [6.7 2.5 5.8 1.8 2. ]\n",
      " [7.2 3.6 6.1 2.5 2. ]\n",
      " [6.5 3.2 5.1 2.  2. ]\n",
      " [6.4 2.7 5.3 1.9 2. ]\n",
      " [6.8 3.  5.5 2.1 2. ]\n",
      " [5.7 2.5 5.  2.  2. ]\n",
      " [5.8 2.8 5.1 2.4 2. ]\n",
      " [6.4 3.2 5.3 2.3 2. ]\n",
      " [6.5 3.  5.5 1.8 2. ]\n",
      " [7.7 3.8 6.7 2.2 2. ]\n",
      " [7.7 2.6 6.9 2.3 2. ]\n",
      " [6.  2.2 5.  1.5 2. ]\n",
      " [6.9 3.2 5.7 2.3 2. ]\n",
      " [5.6 2.8 4.9 2.  2. ]\n",
      " [7.7 2.8 6.7 2.  2. ]\n",
      " [6.3 2.7 4.9 1.8 2. ]\n",
      " [6.7 3.3 5.7 2.1 2. ]\n",
      " [7.2 3.2 6.  1.8 2. ]\n",
      " [6.2 2.8 4.8 1.8 2. ]\n",
      " [6.1 3.  4.9 1.8 2. ]\n",
      " [6.4 2.8 5.6 2.1 2. ]\n",
      " [7.2 3.  5.8 1.6 2. ]\n",
      " [7.4 2.8 6.1 1.9 2. ]\n",
      " [7.9 3.8 6.4 2.  2. ]\n",
      " [6.4 2.8 5.6 2.2 2. ]\n",
      " [6.3 2.8 5.1 1.5 2. ]\n",
      " [6.1 2.6 5.6 1.4 2. ]\n",
      " [7.7 3.  6.1 2.3 2. ]\n",
      " [6.3 3.4 5.6 2.4 2. ]\n",
      " [6.4 3.1 5.5 1.8 2. ]\n",
      " [6.  3.  4.8 1.8 2. ]\n",
      " [6.9 3.1 5.4 2.1 2. ]\n",
      " [6.7 3.1 5.6 2.4 2. ]\n",
      " [6.9 3.1 5.1 2.3 2. ]\n",
      " [5.8 2.7 5.1 1.9 2. ]\n",
      " [6.8 3.2 5.9 2.3 2. ]\n",
      " [6.7 3.3 5.7 2.5 2. ]\n",
      " [6.7 3.  5.2 2.3 2. ]\n",
      " [6.3 2.5 5.  1.9 2. ]\n",
      " [6.5 3.  5.2 2.  2. ]\n",
      " [6.2 3.4 5.4 2.3 2. ]\n",
      " [5.9 3.  5.1 1.8 2. ]]\n"
     ]
    }
   ],
   "source": [
    "# En esta concatenación estoy intentando agregar la lista \"target\" como columna a la matriz \"data2\"\n",
    "# Primero debo conseguir convertir la lista en una matriz columna mediante el uso del operador transponer (T)\n",
    "# Para concatenar las cuarta columba uso el parámetro axis=1 para indicarle que es conlumna,\n",
    "\n",
    "data3=np.concatenate((data2, np.array([target]).T), axis=1)\n",
    "print(data3)"
   ]
  },
  {
   "cell_type": "code",
   "execution_count": 33,
   "id": "f72e0769",
   "metadata": {},
   "outputs": [
    {
     "name": "stdout",
     "output_type": "stream",
     "text": [
      "[[5.1 3.5 1.4 0.2 0. ]\n",
      " [4.9 3.  1.4 0.2 0. ]\n",
      " [4.7 3.2 1.3 0.2 0. ]\n",
      " [4.6 3.1 1.5 0.2 0. ]]\n"
     ]
    }
   ],
   "source": [
    "# Mostra els 5 primers registres:\n",
    "print(data3[:4])"
   ]
  },
  {
   "cell_type": "markdown",
   "id": "ac04cdb7",
   "metadata": {},
   "source": [
    "## Exercici 3\n",
    "- Calcula la mitjana i desviació estàndard de la longitud del sèpal (\"sepal length (cm)\") i la longitud del pètal (\"petal length (cm)\"). \n",
    "- Mostra els resultats amb dos decimals.\n",
    "\n"
   ]
  },
  {
   "cell_type": "code",
   "execution_count": 52,
   "id": "65364123",
   "metadata": {},
   "outputs": [
    {
     "name": "stdout",
     "output_type": "stream",
     "text": [
      "[5.1 4.9 4.7 4.6 5.  5.4 4.6 5.  4.4 4.9 5.4 4.8 4.8 4.3 5.8 5.7 5.4 5.1\n",
      " 5.7 5.1 5.4 5.1 4.6 5.1 4.8 5.  5.  5.2 5.2 4.7 4.8 5.4 5.2 5.5 4.9 5.\n",
      " 5.5 4.9 4.4 5.1 5.  4.5 4.4 5.  5.1 4.8 5.1 4.6 5.3 5.  7.  6.4 6.9 5.5\n",
      " 6.5 5.7 6.3 4.9 6.6 5.2 5.  5.9 6.  6.1 5.6 6.7 5.6 5.8 6.2 5.6 5.9 6.1\n",
      " 6.3 6.1 6.4 6.6 6.8 6.7 6.  5.7 5.5 5.5 5.8 6.  5.4 6.  6.7 6.3 5.6 5.5\n",
      " 5.5 6.1 5.8 5.  5.6 5.7 5.7 6.2 5.1 5.7 6.3 5.8 7.1 6.3 6.5 7.6 4.9 7.3\n",
      " 6.7 7.2 6.5 6.4 6.8 5.7 5.8 6.4 6.5 7.7 7.7 6.  6.9 5.6 7.7 6.3 6.7 7.2\n",
      " 6.2 6.1 6.4 7.2 7.4 7.9 6.4 6.3 6.1 7.7 6.3 6.4 6.  6.9 6.7 6.9 5.8 6.8\n",
      " 6.7 6.7 6.3 6.5 6.2 5.9]\n",
      "[1.4 1.4 1.3 1.5 1.4 1.7 1.4 1.5 1.4 1.5 1.5 1.6 1.4 1.1 1.2 1.5 1.3 1.4\n",
      " 1.7 1.5 1.7 1.5 1.  1.7 1.9 1.6 1.6 1.5 1.4 1.6 1.6 1.5 1.5 1.4 1.5 1.2\n",
      " 1.3 1.4 1.3 1.5 1.3 1.3 1.3 1.6 1.9 1.4 1.6 1.4 1.5 1.4 4.7 4.5 4.9 4.\n",
      " 4.6 4.5 4.7 3.3 4.6 3.9 3.5 4.2 4.  4.7 3.6 4.4 4.5 4.1 4.5 3.9 4.8 4.\n",
      " 4.9 4.7 4.3 4.4 4.8 5.  4.5 3.5 3.8 3.7 3.9 5.1 4.5 4.5 4.7 4.4 4.1 4.\n",
      " 4.4 4.6 4.  3.3 4.2 4.2 4.2 4.3 3.  4.1 6.  5.1 5.9 5.6 5.8 6.6 4.5 6.3\n",
      " 5.8 6.1 5.1 5.3 5.5 5.  5.1 5.3 5.5 6.7 6.9 5.  5.7 4.9 6.7 4.9 5.7 6.\n",
      " 4.8 4.9 5.6 5.8 6.1 6.4 5.6 5.1 5.6 6.1 5.6 5.5 4.8 5.4 5.6 5.1 5.1 5.9\n",
      " 5.7 5.2 5.  5.2 5.4 5.1]\n"
     ]
    }
   ],
   "source": [
    "# Primero extrigo las columnas de Longitud de sépalos y Longitud de sépalos, \n",
    "# Son las columnas 1ª y 3ª de la matriz data3\n",
    "\n",
    "LongSep = data3[:,0]\n",
    "LongPet = data3[:,2]\n",
    "\n",
    "print(LongSep)\n",
    "print(LongPet)"
   ]
  },
  {
   "cell_type": "code",
   "execution_count": 72,
   "id": "38f2ff81",
   "metadata": {},
   "outputs": [
    {
     "name": "stdout",
     "output_type": "stream",
     "text": [
      "La MEDIA de la longitud del SÉPALO es: 5.84\n",
      "La MEDIA de la longitud del PÉTALO es: 3.76\n",
      "La DESVIACIÓN TÍPICA de la longitud del SÉPALO es: 0.83\n",
      "La DESVIACIÓN TÍPICA de la longitud del PÉTALO es: 1.76\n"
     ]
    }
   ],
   "source": [
    "# La media de cada columna la calculo con la función columna.mean()\n",
    "# La desviación típica de cada columna la calculo con la función columna.std()\n",
    "# Para que me redondee a 2 decimales aplico la fución ==> round(dato, nº decimales)\n",
    "# Esta función lo que hace es redondear toda la cola de decimales a los decimales que le pidamos.\n",
    "\n",
    "MedLongSep=round(LongSep.mean(), 2)\n",
    "MedLongPet=round(LongPet.mean(), 2)\n",
    "StdLongSep=round(LongSep.std(), 2)\n",
    "StdLongPet=round(LongPet.std(), 2)\n",
    "\n",
    "print(\"La MEDIA de la longitud del SÉPALO es:\", MedLongSep)\n",
    "print(\"La MEDIA de la longitud del PÉTALO es:\", MedLongPet)\n",
    "print(\"La DESVIACIÓN TÍPICA de la longitud del SÉPALO es:\", StdLongSep)\n",
    "print(\"La DESVIACIÓN TÍPICA de la longitud del PÉTALO es:\", StdLongPet)"
   ]
  },
  {
   "cell_type": "code",
   "execution_count": 76,
   "id": "dda09d7b",
   "metadata": {},
   "outputs": [
    {
     "name": "stdout",
     "output_type": "stream",
     "text": [
      "La MEDIA de la longitud del SÉPALO es: 5.843\n",
      "La MEDIA de la longitud del PÉTALO es: 3.758\n",
      "La DESVIACIÓN TÍPICA de la longitud del SÉPALO es: 0.825\n",
      "La DESVIACIÓN TÍPICA de la longitud del PÉTALO es: 1.759\n"
     ]
    }
   ],
   "source": [
    "# Si lo que quiero es que me de los decimilaes reales sin redondear, uso la fución ==> format\n",
    "# En este caso le voy a pedir que me de tres decimales para comprobar que le redondeo anterior está OK.\n",
    "\n",
    "print(\"La MEDIA de la longitud del SÉPALO es:\", \"{:.3f}\".format(LongSep.mean()))\n",
    "print(\"La MEDIA de la longitud del PÉTALO es:\", \"{:.3f}\".format(LongPet.mean()))\n",
    "print(\"La DESVIACIÓN TÍPICA de la longitud del SÉPALO es:\", \"{:.3f}\".format(LongSep.std()))\n",
    "print(\"La DESVIACIÓN TÍPICA de la longitud del PÉTALO es:\", \"{:.3f}\".format(LongPet.std()))"
   ]
  },
  {
   "cell_type": "markdown",
   "id": "5a3a7bf3",
   "metadata": {},
   "source": [
    "## Exercici 4\n",
    "Selecciona una mostra aleatòria de 20 registres del conjunt que has obtingut en l'exercici anterior."
   ]
  },
  {
   "cell_type": "code",
   "execution_count": 98,
   "id": "ca50e627",
   "metadata": {},
   "outputs": [
    {
     "name": "stdout",
     "output_type": "stream",
     "text": [
      "[2.  5.9 0.  4.7 0.  0.2 1.  2.  5.7 4.4 4.5 3.6 1.5 5.4 0.3 3.3 6.7 3.\n",
      " 6.7 2.7]\n"
     ]
    }
   ],
   "source": [
    "# Primero tengo que importar la función ramdom de numpy\n",
    "from numpy import random\n",
    "\n",
    "# Por pueba error he vistoa que para poder conseguir números aleatorios de la matriz datos3==> \n",
    "# primero he de transformar esa matriz 2-D en 1-D\n",
    "# Lo hago con fución concatenate ()\n",
    "\n",
    "data3to1D = np.concatenate(data3)\n",
    "\n",
    "# Le pido los 20 numereos aletorios con la función random.choice(), definiéndole que quiero 20 resultados.\n",
    "aleatorios = random.choice(data3to1D, 20)\n",
    "\n",
    "print(aleatorios)"
   ]
  },
  {
   "cell_type": "markdown",
   "id": "aa13df6f",
   "metadata": {},
   "source": [
    "## Exercici 5\n",
    "Crea una matriu que mostri: \n",
    "\n",
    "• La mitjana de cada característica per espècie. \n",
    "\n",
    "• La desviació estàndard de cada característica per espècie."
   ]
  },
  {
   "cell_type": "code",
   "execution_count": 209,
   "id": "ce765acb",
   "metadata": {},
   "outputs": [
    {
     "name": "stdout",
     "output_type": "stream",
     "text": [
      "las especies de esta tabla son: [0. 1. 2.]\n",
      "\n",
      "La matriz de medias es:\n",
      "\n",
      " [[5.01 3.43 1.46 0.25]\n",
      " [5.94 2.77 4.26 1.33]\n",
      " [6.59 2.97 5.55 2.03]]\n",
      "\n",
      "La matriz de desviaciones es:\n",
      "\n",
      " [[0.35 0.38 0.17 0.1 ]\n",
      " [0.51 0.31 0.47 0.2 ]\n",
      " [0.63 0.32 0.55 0.27]]\n"
     ]
    }
   ],
   "source": [
    "# las especies están definidas en la columna target_name, que es la 5ª columna de data3. \n",
    "# Hay tres especies diferentes.\n",
    "# Es una matriz (3_especies, 4_características)\n",
    "\n",
    "# Primero conseguir los datos únicos de las espcecies, de la columna 5, agrupados\n",
    "\n",
    "especies=np.unique(data3[:,4])\n",
    "\n",
    "# Imprimo para comprobar que está ok\n",
    "print(\"las especies de esta tabla son:\",especies)\n",
    "\n",
    "# Identifico la matriz en la que están los datos sobre los que hacer los cálculos (las primeras cuatro columnas)\n",
    "mediciones=data3[:, :4]\n",
    "\n",
    "\n",
    "# Creo unas listas vacías de media y desviación típica, que vayan acumulando los datos del for posterior\n",
    "medias=[]\n",
    "desviaciones=[]\n",
    "\n",
    "# Hacer un for que vaya pasando por las esepecies únicas y calculando las medias y deviaciones de cada columna.\n",
    "\n",
    "for i in especies: \n",
    "    \n",
    "    # Calculo la media de cada especie a lo largo de las filas para cada parámetro\n",
    "    # Para ello le tengo que decir que me haga el cálculo de las columnas de 0 a 3 mientras que ==>\n",
    "    # ==> el valor de la columna target sea =i\n",
    "    media_por_especie = np.round(np.mean(data3[target==i, :4], axis=0),2)\n",
    "    \n",
    "    # Agrego las medias conseguidas a la lista vacía de medias\n",
    "    medias.append(media_por_especie)\n",
    "    \n",
    "    # Calculo la desviación a lo largo de las filas para cada parámetro \n",
    "    desviacion_por_especie = np.round(np.std(data3[target==i, :4], axis=0),2)\n",
    "    \n",
    "    # Agrego las desviaciones conseguidas a la lista vacía de desviaciones\n",
    "    desviaciones.append(desviacion_por_especie)\n",
    "\n",
    "\n",
    "# Cuando se termine el for imprimir lo que se ha ido acumulando en las listas vacías.    \n",
    "# Como me da unos arrays muy feos, convierto ambas listas en dos matrices Numpy\n",
    "medias = np.array(medias)\n",
    "desviaciones = np.array(desviaciones)  \n",
    "print()    \n",
    "print(\"La matriz de medias es:\\n\\n\", medias)\n",
    "print()\n",
    "print(\"La matriz de desviaciones es:\\n\\n\",desviaciones)\n",
    "\n",
    "   "
   ]
  },
  {
   "cell_type": "markdown",
   "id": "19a48753",
   "metadata": {},
   "source": [
    "## Exercici 6\n",
    "• Calcula la quantitat de mostres per espècie.\n",
    "\n",
    "• Troba l'espècie amb el valor màxim mitjana de la variable \"sepal length (cm)\""
   ]
  },
  {
   "cell_type": "code",
   "execution_count": 212,
   "id": "6c590943",
   "metadata": {},
   "outputs": [
    {
     "data": {
      "text/plain": [
       "array([[ 0,  1,  2],\n",
       "       [50, 50, 50]])"
      ]
     },
     "execution_count": 212,
     "metadata": {},
     "output_type": "execute_result"
    }
   ],
   "source": [
    "# Calcula la quantitat de mostres per espècie.\n",
    "# Utilizo esta fórmula que encuentro en internet y me permite hacer el contaje sobre la columna lista target\n",
    "# Le pongo delante np.array() para que me lo devuelva como matriz para ver bien los datos.\n",
    "np.array(np.unique(target, return_counts=True))"
   ]
  },
  {
   "cell_type": "code",
   "execution_count": 221,
   "id": "b17dc657",
   "metadata": {},
   "outputs": [
    {
     "name": "stdout",
     "output_type": "stream",
     "text": [
      "6.59\n",
      "6.59\n",
      "6.59\n",
      "6.59\n"
     ]
    }
   ],
   "source": [
    "# Troba l'espècie amb el valor màxim mitjana de la variable \"sepal length (cm)\"\n",
    "# Es decir, cuál es la espicie que tiene el mayor valor de media en la longitud de sepalos (columna 0)\n",
    "\n",
    "for n in medias[0]:\n",
    "   \n",
    "    media_sepalo_max = np.max(medias) \n",
    "    print(media_sepalo_max)\n",
    " \n"
   ]
  },
  {
   "cell_type": "markdown",
   "id": "d59bd9ef",
   "metadata": {},
   "source": [
    "## Exercici 7\n",
    "• Calcula la matriu de correlació entre les variables.\n",
    "\n",
    "• Filtra els valors majors a la mitjana de la longitud dels pètals i mostra-ho. \n",
    "\n",
    "• Troba la mostra amb els pètals més grans."
   ]
  },
  {
   "cell_type": "code",
   "execution_count": 160,
   "id": "cb6e7237",
   "metadata": {},
   "outputs": [
    {
     "name": "stdout",
     "output_type": "stream",
     "text": [
      "La matriz de correlaciónes:\n",
      " [[ 1.         -0.11756978  0.87175378  0.81794113]\n",
      " [-0.11756978  1.         -0.4284401  -0.36612593]\n",
      " [ 0.87175378 -0.4284401   1.          0.96286543]\n",
      " [ 0.81794113 -0.36612593  0.96286543  1.        ]]\n"
     ]
    }
   ],
   "source": [
    "# Calcular la matriz de correlación:\n",
    "# Aplico la función np.corrcoef() sobre data 2 o data3[:, :4], que es donde están las mediciones.\n",
    "# Para indicarle que las variables están en las columnas, le aporto el argumento rowvar=False.\n",
    "\n",
    "matriz_correlación = np.corrcoef(data3[:, :4], rowvar=False)\n",
    "\n",
    "print(\"La matriz de correlaciónes:\\n\", matriz_correlación)"
   ]
  },
  {
   "cell_type": "code",
   "execution_count": 165,
   "id": "f335db53",
   "metadata": {},
   "outputs": [
    {
     "name": "stdout",
     "output_type": "stream",
     "text": [
      "Los valores de longitud de pétalos superiores a la media son:\n",
      " [4.7 4.5 4.9 4.  4.6 4.5 4.7 4.6 3.9 4.2 4.  4.7 4.4 4.5 4.1 4.5 3.9 4.8\n",
      " 4.  4.9 4.7 4.3 4.4 4.8 5.  4.5 3.8 3.9 5.1 4.5 4.5 4.7 4.4 4.1 4.  4.4\n",
      " 4.6 4.  4.2 4.2 4.2 4.3 4.1 6.  5.1 5.9 5.6 5.8 6.6 4.5 6.3 5.8 6.1 5.1\n",
      " 5.3 5.5 5.  5.1 5.3 5.5 6.7 6.9 5.  5.7 4.9 6.7 4.9 5.7 6.  4.8 4.9 5.6\n",
      " 5.8 6.1 6.4 5.6 5.1 5.6 6.1 5.6 5.5 4.8 5.4 5.6 5.1 5.1 5.9 5.7 5.2 5.\n",
      " 5.2 5.4 5.1]\n"
     ]
    }
   ],
   "source": [
    "# Filtra els valors majors a la mitjana de la longitud dels pètals i mostra-ho.\n",
    "\n",
    "# Aislo la columla longitud de pétalos (3ª columna para tarbajar con ella)\n",
    "longitud_petalos = data3[:, 2]\n",
    "\n",
    "# Calculo la media de la longitud de pétalos\n",
    "media_longitud_petalos = np.mean(longitud_petalos)\n",
    "\n",
    "# Filtrar valores superiores a la media\n",
    "valores_superan_media = longitud_petalos[longitud_petalos > media_longitud_petalos]\n",
    "\n",
    "# Mostrar los valores filtrados\n",
    "print(\"Los valores de longitud de pétalos superiores a la media son:\\n\", valores_superan_media)\n"
   ]
  },
  {
   "cell_type": "code",
   "execution_count": 179,
   "id": "7e7cba9a",
   "metadata": {},
   "outputs": [
    {
     "name": "stdout",
     "output_type": "stream",
     "text": [
      "\n",
      "El pétalo más largo de la muestra mide: 6.9 cm\n",
      "\n",
      "El índice de la muestra con el pétalo más largo es: 118\n",
      "\n",
      "La muestra con el pétalo más largo tiene los siguientes datos: [7.7 2.6 6.9 2.3 2. ]\n",
      "\n"
     ]
    }
   ],
   "source": [
    "# Troba la mostra amb els pètals més grans\n",
    " \n",
    "# En la variable longitud_petalos que ya he definido antes \n",
    "# busco el dato del pétalo más largo con la función: np.max\n",
    "\n",
    "print()\n",
    "print (\"El pétalo más largo de la muestra mide:\", np.max(longitud_petalos),\"cm\")\n",
    "print()\n",
    "\n",
    "# Busco el indice al que se corresponde ese dato del pétalo más largo con el argumento: np.argmax\n",
    "indice_petal_mas_largo = np.argmax(longitud_petalos)   \n",
    "\n",
    "print (\"El índice de la muestra con el pétalo más largo es:\", indice_petal_mas_largo)\n",
    "print()\n",
    "\n",
    "# Le pido que me imprima toda la fila de la muestra con el pétalo más largo: \n",
    "\n",
    "muestra_petal_mas_largo = data3[indice_petal_mas_largo]\n",
    "\n",
    "print(\"La muestra con el pétalo más largo tiene los siguientes datos:\", muestra_petal_mas_largo)\n",
    "print()"
   ]
  },
  {
   "cell_type": "markdown",
   "id": "04c6c27f",
   "metadata": {},
   "source": [
    "## Exercici 8\n",
    "Troba l'espècie amb la diferència més gran entre la longitud mitjana de sèpals i pètals."
   ]
  },
  {
   "cell_type": "code",
   "execution_count": 206,
   "id": "e2603f56",
   "metadata": {},
   "outputs": [
    {
     "name": "stdout",
     "output_type": "stream",
     "text": [
      "[5.006, 5.936, 6.587999999999998]\n",
      "[1.4620000000000002, 4.26, 5.5520000000000005]\n",
      "La especie con la mayor diferencia entre longitud media de sépalos y pétalos es: 0.0\n"
     ]
    }
   ],
   "source": [
    "# Tengo que crear dos listas de 3 elementos, \n",
    "# - La primera lista tendrá las medias de longitud de los PÉTALOS de cada especie.\n",
    "# - La segunda lista tendrá las medias de longitud de los SÉPALOS de cada especie.\n",
    "# Tengo que comparar los dos datos de cada especie\n",
    "# Imprimir la especie que tenga la mayor diferencia.\n",
    "\n",
    "# Por lo que investigo, debería utilizar máscaras booleanas, que no sé lo que son.\n",
    "\n",
    "# Extraer las columnas relevantes (longitud de sépalos y pétalos y especies)\n",
    "longitud_sepalos = data3[:, 0]\n",
    "longitud_petalos = data3[:, 2]\n",
    "especies = data3[:, 4]\n",
    "\n",
    "# Calcular la longitud media de sépalos y pétalos por especie\n",
    "longitud_sepalos_medias = []\n",
    "longitud_petalos_medias = []\n",
    "\n",
    "for especie in np.unique(especies):\n",
    "    mask = especies == especie\n",
    "    longitud_sepalos_media = np.mean(longitud_sepalos[mask])\n",
    "    longitud_petalos_media = np.mean(longitud_petalos[mask])\n",
    "    longitud_sepalos_medias.append(longitud_sepalos_media)\n",
    "    longitud_petalos_medias.append(longitud_petalos_media)\n",
    "\n",
    "print(longitud_sepalos_medias)\n",
    "print(longitud_petalos_medias)\n",
    "\n",
    "# Calcular la diferencia entre las longitudes de sépalos y pétalos\n",
    "diferencias = np.abs(np.array(longitud_sepalos_medias) - np.array(longitud_petalos_medias))\n",
    "\n",
    "# Encontrar la especie con la mayor diferencia\n",
    "indice_especie_max_dif = np.argmax(diferencias)\n",
    "especie_max_dif = np.unique(especies)[indice_especie_max_dif]\n",
    "\n",
    "# Imprimir la especie con la mayor diferencia\n",
    "print(\"La especie con la mayor diferencia entre longitud media de sépalos y pétalos es:\", especie_max_dif)"
   ]
  },
  {
   "cell_type": "code",
   "execution_count": null,
   "id": "4344caa4",
   "metadata": {},
   "outputs": [],
   "source": []
  }
 ],
 "metadata": {
  "kernelspec": {
   "display_name": "Python 3 (ipykernel)",
   "language": "python",
   "name": "python3"
  },
  "language_info": {
   "codemirror_mode": {
    "name": "ipython",
    "version": 3
   },
   "file_extension": ".py",
   "mimetype": "text/x-python",
   "name": "python",
   "nbconvert_exporter": "python",
   "pygments_lexer": "ipython3",
   "version": "3.10.6"
  }
 },
 "nbformat": 4,
 "nbformat_minor": 5
}
